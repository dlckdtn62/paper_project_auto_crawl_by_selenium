{
 "cells": [
  {
   "cell_type": "code",
   "execution_count": 5,
   "metadata": {},
   "outputs": [],
   "source": [
    "from multiprocessing import Pool\n",
    "import dfs_sign_up_automatically_test\n",
    "import pandas as pd\n",
    "import numpy as np\n",
    "from 최종테스트 import *"
   ]
  },
  {
   "cell_type": "code",
   "execution_count": 6,
   "metadata": {},
   "outputs": [],
   "source": [
    "file = pd.read_csv('c:\\\\users\\\\dlckd\\\\onedrive\\\\desktop\\\\url.csv')\n",
    "url_list = list(np.array(file['url']))\n",
    "url_list = [x.replace(' ', '').lower() for x in url_list]\n",
    "url_list = list(set(url_list))"
   ]
  },
  {
   "cell_type": "code",
   "execution_count": 7,
   "metadata": {},
   "outputs": [],
   "source": [
    "def make_dataframe(output):\n",
    "    df = pd.DataFrame()\n",
    "    url = list()\n",
    "    exist = list()\n",
    "    term = list()\n",
    "    privacy = list()\n",
    "    term_check = list()\n",
    "    privacy_check = list()\n",
    "    direct = list()\n",
    "    for o in output:\n",
    "        for key, value in o.items():\n",
    "            if type(value) != str:\n",
    "                url.append(key)\n",
    "                for x, y in value.items():\n",
    "                    if x == 'term_link' or x == 'link_term':\n",
    "                        term.append(y)\n",
    "                    elif x == 'exist_check_box' or x == 'exist':\n",
    "                        exist.append(y)\n",
    "                    elif x == 'privacy_check_box':\n",
    "                        privacy_check.append(y)\n",
    "                    elif x == 'privacy_link' or x == 'link_privacy':\n",
    "                        privacy.append(y)\n",
    "                    elif x == 'direct':\n",
    "                        direct.append(y)\n",
    "                    elif x == 'term_check_box' or x == 'term_checkbox':\n",
    "                        term_check.append(y)\n",
    "            else:\n",
    "                if key == 'term_link':\n",
    "                    term.append(value)\n",
    "                elif key == 'exist_check_box' or key == 'exist':\n",
    "                    exist.append(value)\n",
    "                elif key == 'privacy_check_box':\n",
    "                    privacy_check.append(value)\n",
    "                elif key == 'privacy_link':\n",
    "                    privacy.append(value)\n",
    "                elif key == 'direct':\n",
    "                    direct.append(value)\n",
    "                elif key == 'term_check_box' or key == 'term_checkbox':\n",
    "                    term_check.append(value)\n",
    "    print(url)\n",
    "    print(direct)\n",
    "    print(privacy_check)\n",
    "    print(term)\n",
    "    print(privacy)\n",
    "    print(exist)\n",
    "    print(term_check)\n",
    "    df['url'] = url\n",
    "    df['direct'] = direct\n",
    "    df['privacy_check_box'] = privacy_check\n",
    "    df['term_link'] = term\n",
    "    df['privacy_link'] = privacy\n",
    "    df['exist_check_box'] = exist\n",
    "    df['term_check_box'] = term_check\n",
    "    return df"
   ]
  },
  {
   "cell_type": "code",
   "execution_count": null,
   "metadata": {},
   "outputs": [],
   "source": [
    "if __name__ == '__main__':\n",
    "    num_processor = 4\n",
    "    s_length = 0\n",
    "    length = len(url_list)//4\n",
    "    count = 1\n",
    "    pool = Pool(processes = num_processor)\n",
    "    #output = list()\n",
    "    while length < len(url_list):\n",
    "        pool = Pool(processes = num_processor)\n",
    "        output = pool.map(dfs_sign_up_automatically_test.practice, url_list[s_length:length])\n",
    "        df = make_dataframe(output)\n",
    "        df.to_csv('c:\\\\users\\\\dlckd\\\\onedrive\\\\desktop\\\\multiprocessing\\\\multiprocessing_'+str(count)+'.csv')\n",
    "        count += 1\n",
    "        length += legnth\n",
    "        s_length+= length\n",
    "                  \n",
    "    df = make_dataframe(output)\n",
    "    df.to_csv('c:\\\\users\\\\dlckd\\\\onedrive\\\\desktop\\\\multiprocessing\\\\multiprocessing_'+str(count)+'.csv')"
   ]
  },
  {
   "cell_type": "code",
   "execution_count": null,
   "metadata": {},
   "outputs": [],
   "source": []
  }
 ],
 "metadata": {
  "kernelspec": {
   "display_name": "Python 3",
   "language": "python",
   "name": "python3"
  },
  "language_info": {
   "codemirror_mode": {
    "name": "ipython",
    "version": 3
   },
   "file_extension": ".py",
   "mimetype": "text/x-python",
   "name": "python",
   "nbconvert_exporter": "python",
   "pygments_lexer": "ipython3",
   "version": "3.7.4"
  }
 },
 "nbformat": 4,
 "nbformat_minor": 2
}
