{
 "cells": [
  {
   "cell_type": "code",
   "execution_count": 1,
   "metadata": {},
   "outputs": [],
   "source": [
    "from multiprocessing import Pool\n",
    "import dfs_sign_up_automatically_test\n",
    "import pandas as pd\n",
    "import numpy as np\n",
    "from 최종테스트 import *\n",
    "from bs4 import BeautifulSoup\n",
    "import requests\n",
    "from selenium import webdriver"
   ]
  },
  {
   "cell_type": "code",
   "execution_count": 3,
   "metadata": {},
   "outputs": [],
   "source": [
    "driver= webdriver.Chrome('c:\\\\users\\\\dlckd\\\\onedrive\\\\desktop\\\\chromedriver.exe')"
   ]
  },
  {
   "cell_type": "code",
   "execution_count": 2,
   "metadata": {},
   "outputs": [
    {
     "name": "stdout",
     "output_type": "stream",
     "text": [
      "craigslist.org join\n",
      "{} <!--\n",
      "    function C(k){return(document.cookie.match('(^|; )'+k+'=([^;]*)')||0)[2]}\n",
      "    var pagetype, pagemode;\n",
      "    (function(){\n",
      "        var h = document.documentElement;\n",
      "        h.className = h.className.replace('no-js', 'js');\n",
      "        var b = document.body;\n",
      "        var bodyClassList = b.className.split(/\\s+/);;\n",
      "        pagetype = bodyClassList[0]; // dangerous assumption\n",
      "        var fmt = C('cl_fmt');\n",
      "        if ( fmt === 'regular' || fmt === 'mobile' ) {\n",
      "            pagemode = fmt;\n",
      "        } else if (screen.width <= 480) {\n",
      "            pagemode = 'mobile';\n",
      "        } else {\n",
      "            pagemode = 'regular';\n",
      "        }\n",
      "        pagemode = pagemode === 'mobile' ? 'mobile' : 'desktop';\n",
      "        bodyClassList.push(pagemode);\n",
      "        if (C('hidesearch') === '1' && pagemode !== 'mobile') {\n",
      "            bodyClassList.push('hide-search');\n",
      "        }\n",
      "        var width = window.innerWidth || document.documentElement.clientWidth;\n",
      "        if (width > 1000) { bodyClassList.push('w1024'); }\n",
      "        if (typeof window.sectionBase !== 'undefined') {\n",
      "            var mode = (decodeURIComponent(C('cl_tocmode') || '').match(new RegExp(window.sectionBase + ':([^,]+)', 'i')) || {})[1] || window.defaultView;\n",
      "            if (mode) {\n",
      "                bodyClassList.push(mode);\n",
      "            }\n",
      "        }\n",
      "        b.className = bodyClassList.join(' ');\n",
      "    }());\n",
      "--> <script type=\"text/javascript\"><!--\n",
      "    function C(k){return(document.cookie.match('(^|; )'+k+'=([^;]*)')||0)[2]}\n",
      "    var pagetype, pagemode;\n",
      "    (function(){\n",
      "        var h = document.documentElement;\n",
      "        h.className = h.className.replace('no-js', 'js');\n",
      "        var b = document.body;\n",
      "        var bodyClassList = b.className.split(/\\s+/);;\n",
      "        pagetype = bodyClassList[0]; // dangerous assumption\n",
      "        var fmt = C('cl_fmt');\n",
      "        if ( fmt === 'regular' || fmt === 'mobile' ) {\n",
      "            pagemode = fmt;\n",
      "        } else if (screen.width <= 480) {\n",
      "            pagemode = 'mobile';\n",
      "        } else {\n",
      "            pagemode = 'regular';\n",
      "        }\n",
      "        pagemode = pagemode === 'mobile' ? 'mobile' : 'desktop';\n",
      "        bodyClassList.push(pagemode);\n",
      "        if (C('hidesearch') === '1' && pagemode !== 'mobile') {\n",
      "            bodyClassList.push('hide-search');\n",
      "        }\n",
      "        var width = window.innerWidth || document.documentElement.clientWidth;\n",
      "        if (width > 1000) { bodyClassList.push('w1024'); }\n",
      "        if (typeof window.sectionBase !== 'undefined') {\n",
      "            var mode = (decodeURIComponent(C('cl_tocmode') || '').match(new RegExp(window.sectionBase + ':([^,]+)', 'i')) || {})[1] || window.defaultView;\n",
      "            if (mode) {\n",
      "                bodyClassList.push(mode);\n",
      "            }\n",
      "        }\n",
      "        b.className = bodyClassList.join(' ');\n",
      "    }());\n",
      "--></script>\n",
      "try\n",
      "create\n",
      "signup\n",
      "try\n",
      "{'class': 'tryapp', 'href': 'https://play.google.com/store/apps/details?id=org.craigslist.CraigslistMobile'} \n",
      "    try the craigslist app »\n",
      "     <div class=\"tryapp\">\n",
      "    try the craigslist app »\n",
      "    <a class=\"appstorebtn\" href=\"https://play.google.com/store/apps/details?id=org.craigslist.CraigslistMobile\">\n",
      "        Android\n",
      "    </a>\n",
      "<a class=\"appstorebtn\" href=\"https://apps.apple.com/us/app/craigslist/id1336642410\">\n",
      "        iOS\n",
      "    </a>\n",
      "</div>\n",
      "create\n",
      "signup\n",
      "create\n",
      "signup\n",
      "create\n",
      "{} create a new account <strong>create a new account</strong>\n",
      "signup\n",
      "{'href': 'https://accounts.craigslist.org/signup/'} account signup page <a href=\"https://accounts.craigslist.org/signup/\">account signup page</a>\n",
      "try\n",
      "{'id': 'cl-unsupported-browser'} \n",
      "                try {\n",
      "                    if (\n",
      "                        !/\\/\\/.+\\.craigslist\\.org\\/about\\//.test(window.location.href)\n",
      "                        &&\n",
      "                        (!window.addEventListener || JSON.parse(JSON.stringify('x')) !== 'x')\n",
      "                    ) {\n",
      "                        throw \"unsupported browser\";\n",
      "                    }\n",
      "                } catch (e) {\n",
      "                    function cleanup() {\n",
      "                        document.body.innerHTML = '<div id=\"cl-unsupported-browser\" style=\"margin:1em;font-size:150%;text-align:center;\">We have detected you are using a browser that is missing critical features.<br><br>Please visit craigslist from a modern browser.</div>';\n",
      "                        document.body.style = \"display:block\";\n",
      "                    }\n",
      "\n",
      "                    try {\n",
      "                        document.body.style = \"display:none\";\n",
      "                    } catch (e) {\n",
      "                    }\n",
      "                    window.onload = cleanup;\n",
      "                    window.clUnsupportedBrowser = true;\n",
      "                }\n",
      "                 <script>\n",
      "                try {\n",
      "                    if (\n",
      "                        !/\\/\\/.+\\.craigslist\\.org\\/about\\//.test(window.location.href)\n",
      "                        &&\n",
      "                        (!window.addEventListener || JSON.parse(JSON.stringify('x')) !== 'x')\n",
      "                    ) {\n",
      "                        throw \"unsupported browser\";\n",
      "                    }\n",
      "                } catch (e) {\n",
      "                    function cleanup() {\n",
      "                        document.body.innerHTML = '<div id=\"cl-unsupported-browser\" style=\"margin:1em;font-size:150%;text-align:center;\">We have detected you are using a browser that is missing critical features.<br><br>Please visit craigslist from a modern browser.</div>';\n",
      "                        document.body.style = \"display:block\";\n",
      "                    }\n",
      "\n",
      "                    try {\n",
      "                        document.body.style = \"display:none\";\n",
      "                    } catch (e) {\n",
      "                    }\n",
      "                    window.onload = cleanup;\n",
      "                    window.clUnsupportedBrowser = true;\n",
      "                }\n",
      "                </script>\n",
      "[{'class': 'tryapp', 'href': 'https://play.google.com/store/apps/details?id=org.craigslist.CraigslistMobile'}, {'href': 'https://accounts.craigslist.org/signup/'}, {'id': 'cl-unsupported-browser'}]\n",
      "[]\n",
      "join\n",
      "[]\n",
      "1\n",
      "link\n",
      "terms\n"
     ]
    },
    {
     "ename": "NoSuchElementException",
     "evalue": "Message: no such element: Unable to locate element: {\"method\":\"link text\",\"selector\":\"wwwcraigslistorgaboutprivacypolicy\"}\n  (Session info: chrome=80.0.3987.149)\n",
     "output_type": "error",
     "traceback": [
      "\u001b[1;31m---------------------------------------------------------------------------\u001b[0m",
      "\u001b[1;31mNoSuchElementException\u001b[0m                    Traceback (most recent call last)",
      "\u001b[1;32m<ipython-input-2-d5f503297692>\u001b[0m in \u001b[0;36m<module>\u001b[1;34m\u001b[0m\n\u001b[1;32m----> 1\u001b[1;33m \u001b[0mdfs_sign_up_automatically_test\u001b[0m\u001b[1;33m.\u001b[0m\u001b[0mpractice\u001b[0m\u001b[1;33m(\u001b[0m\u001b[1;34m'craigslist.org'\u001b[0m\u001b[1;33m)\u001b[0m\u001b[1;33m\u001b[0m\u001b[1;33m\u001b[0m\u001b[0m\n\u001b[0m",
      "\u001b[1;32m~\\dfs_sign_up_automatically_test.py\u001b[0m in \u001b[0;36mpractice\u001b[1;34m(url)\u001b[0m\n\u001b[0;32m    295\u001b[0m     \u001b[0mtotal_list\u001b[0m\u001b[1;33m,\u001b[0m \u001b[0mfooter_x\u001b[0m \u001b[1;33m=\u001b[0m \u001b[0mtotal_find\u001b[0m\u001b[1;33m.\u001b[0m\u001b[0mpolicy_dfs\u001b[0m\u001b[1;33m(\u001b[0m\u001b[0msoup\u001b[0m\u001b[1;33m,\u001b[0m \u001b[1;36m1\u001b[0m\u001b[1;33m)\u001b[0m\u001b[1;33m\u001b[0m\u001b[1;33m\u001b[0m\u001b[0m\n\u001b[0;32m    296\u001b[0m     \u001b[0mx\u001b[0m \u001b[1;33m=\u001b[0m \u001b[0mfinally_refined\u001b[0m\u001b[1;33m(\u001b[0m\u001b[0mtotal_list\u001b[0m\u001b[1;33m)\u001b[0m\u001b[1;33m\u001b[0m\u001b[1;33m\u001b[0m\u001b[0m\n\u001b[1;32m--> 297\u001b[1;33m     \u001b[0my\u001b[0m \u001b[1;33m=\u001b[0m \u001b[0mprivacy_find\u001b[0m\u001b[1;33m.\u001b[0m\u001b[0mfind_tag\u001b[0m\u001b[1;33m(\u001b[0m\u001b[0mprivacy_list\u001b[0m\u001b[1;33m,\u001b[0m \u001b[0mfooter_y\u001b[0m\u001b[1;33m)\u001b[0m\u001b[1;33m\u001b[0m\u001b[1;33m\u001b[0m\u001b[0m\n\u001b[0m\u001b[0;32m    298\u001b[0m     \u001b[0mz\u001b[0m \u001b[1;33m=\u001b[0m \u001b[0muse_find\u001b[0m\u001b[1;33m.\u001b[0m\u001b[0mfind_tag\u001b[0m\u001b[1;33m(\u001b[0m\u001b[0muse_list\u001b[0m\u001b[1;33m,\u001b[0m \u001b[0mfooter_z\u001b[0m\u001b[1;33m)\u001b[0m\u001b[1;33m\u001b[0m\u001b[1;33m\u001b[0m\u001b[0m\n\u001b[0;32m    299\u001b[0m     \u001b[0mx\u001b[0m \u001b[1;33m=\u001b[0m \u001b[0mtotal_find\u001b[0m\u001b[1;33m.\u001b[0m\u001b[0mfind_tag\u001b[0m\u001b[1;33m(\u001b[0m\u001b[0mtotal_list\u001b[0m\u001b[1;33m,\u001b[0m \u001b[0mfooter_x\u001b[0m\u001b[1;33m)\u001b[0m\u001b[1;33m\u001b[0m\u001b[1;33m\u001b[0m\u001b[0m\n",
      "\u001b[1;32m~\\최종테스트.py\u001b[0m in \u001b[0;36mfind_tag\u001b[1;34m(self, target, foot)\u001b[0m\n\u001b[0;32m    289\u001b[0m                     \u001b[0mx\u001b[0m \u001b[1;33m=\u001b[0m \u001b[0mre\u001b[0m\u001b[1;33m.\u001b[0m\u001b[0msub\u001b[0m\u001b[1;33m(\u001b[0m\u001b[1;34m'https://|/'\u001b[0m\u001b[1;33m,\u001b[0m\u001b[1;34m''\u001b[0m\u001b[1;33m,\u001b[0m\u001b[0mtemporary\u001b[0m\u001b[1;33m[\u001b[0m\u001b[1;34m'href'\u001b[0m\u001b[1;33m]\u001b[0m\u001b[1;33m)\u001b[0m\u001b[1;33m\u001b[0m\u001b[1;33m\u001b[0m\u001b[0m\n\u001b[0;32m    290\u001b[0m                     \u001b[0mx\u001b[0m \u001b[1;33m=\u001b[0m \u001b[0mx\u001b[0m\u001b[1;33m.\u001b[0m\u001b[0mreplace\u001b[0m\u001b[1;33m(\u001b[0m\u001b[1;34m'.'\u001b[0m\u001b[1;33m,\u001b[0m \u001b[1;34m''\u001b[0m\u001b[1;33m)\u001b[0m\u001b[1;33m\u001b[0m\u001b[1;33m\u001b[0m\u001b[0m\n\u001b[1;32m--> 291\u001b[1;33m                     \u001b[0my_pos\u001b[0m \u001b[1;33m=\u001b[0m \u001b[0mdriver\u001b[0m\u001b[1;33m.\u001b[0m\u001b[0mfind_element_by_link_text\u001b[0m\u001b[1;33m(\u001b[0m\u001b[0mx\u001b[0m\u001b[1;33m)\u001b[0m\u001b[1;33m.\u001b[0m\u001b[0mlocation\u001b[0m\u001b[1;33m[\u001b[0m\u001b[1;34m'y'\u001b[0m\u001b[1;33m]\u001b[0m\u001b[1;33m\u001b[0m\u001b[1;33m\u001b[0m\u001b[0m\n\u001b[0m\u001b[0;32m    292\u001b[0m                     \u001b[0mprint\u001b[0m\u001b[1;33m(\u001b[0m\u001b[0my_pos\u001b[0m\u001b[1;33m)\u001b[0m\u001b[1;33m\u001b[0m\u001b[1;33m\u001b[0m\u001b[0m\n\u001b[0;32m    293\u001b[0m                     \u001b[1;32mif\u001b[0m \u001b[0my_pos\u001b[0m \u001b[1;33m>\u001b[0m\u001b[1;36m9\u001b[0m\u001b[1;33m/\u001b[0m\u001b[1;36m10\u001b[0m\u001b[1;33m*\u001b[0m\u001b[0mdriver\u001b[0m\u001b[1;33m.\u001b[0m\u001b[0mexecute_script\u001b[0m\u001b[1;33m(\u001b[0m\u001b[1;34m'return document.body.scrollHeight'\u001b[0m\u001b[1;33m)\u001b[0m\u001b[1;33m:\u001b[0m\u001b[1;33m\u001b[0m\u001b[1;33m\u001b[0m\u001b[0m\n",
      "\u001b[1;32m~\\AppData\\Local\\Continuum\\anaconda3\\lib\\site-packages\\selenium\\webdriver\\remote\\webdriver.py\u001b[0m in \u001b[0;36mfind_element_by_link_text\u001b[1;34m(self, link_text)\u001b[0m\n\u001b[0;32m    426\u001b[0m             \u001b[0melement\u001b[0m \u001b[1;33m=\u001b[0m \u001b[0mdriver\u001b[0m\u001b[1;33m.\u001b[0m\u001b[0mfind_element_by_link_text\u001b[0m\u001b[1;33m(\u001b[0m\u001b[1;34m'Sign In'\u001b[0m\u001b[1;33m)\u001b[0m\u001b[1;33m\u001b[0m\u001b[1;33m\u001b[0m\u001b[0m\n\u001b[0;32m    427\u001b[0m         \"\"\"\n\u001b[1;32m--> 428\u001b[1;33m         \u001b[1;32mreturn\u001b[0m \u001b[0mself\u001b[0m\u001b[1;33m.\u001b[0m\u001b[0mfind_element\u001b[0m\u001b[1;33m(\u001b[0m\u001b[0mby\u001b[0m\u001b[1;33m=\u001b[0m\u001b[0mBy\u001b[0m\u001b[1;33m.\u001b[0m\u001b[0mLINK_TEXT\u001b[0m\u001b[1;33m,\u001b[0m \u001b[0mvalue\u001b[0m\u001b[1;33m=\u001b[0m\u001b[0mlink_text\u001b[0m\u001b[1;33m)\u001b[0m\u001b[1;33m\u001b[0m\u001b[1;33m\u001b[0m\u001b[0m\n\u001b[0m\u001b[0;32m    429\u001b[0m \u001b[1;33m\u001b[0m\u001b[0m\n\u001b[0;32m    430\u001b[0m     \u001b[1;32mdef\u001b[0m \u001b[0mfind_elements_by_link_text\u001b[0m\u001b[1;33m(\u001b[0m\u001b[0mself\u001b[0m\u001b[1;33m,\u001b[0m \u001b[0mtext\u001b[0m\u001b[1;33m)\u001b[0m\u001b[1;33m:\u001b[0m\u001b[1;33m\u001b[0m\u001b[1;33m\u001b[0m\u001b[0m\n",
      "\u001b[1;32m~\\AppData\\Local\\Continuum\\anaconda3\\lib\\site-packages\\selenium\\webdriver\\remote\\webdriver.py\u001b[0m in \u001b[0;36mfind_element\u001b[1;34m(self, by, value)\u001b[0m\n\u001b[0;32m    976\u001b[0m         return self.execute(Command.FIND_ELEMENT, {\n\u001b[0;32m    977\u001b[0m             \u001b[1;34m'using'\u001b[0m\u001b[1;33m:\u001b[0m \u001b[0mby\u001b[0m\u001b[1;33m,\u001b[0m\u001b[1;33m\u001b[0m\u001b[1;33m\u001b[0m\u001b[0m\n\u001b[1;32m--> 978\u001b[1;33m             'value': value})['value']\n\u001b[0m\u001b[0;32m    979\u001b[0m \u001b[1;33m\u001b[0m\u001b[0m\n\u001b[0;32m    980\u001b[0m     \u001b[1;32mdef\u001b[0m \u001b[0mfind_elements\u001b[0m\u001b[1;33m(\u001b[0m\u001b[0mself\u001b[0m\u001b[1;33m,\u001b[0m \u001b[0mby\u001b[0m\u001b[1;33m=\u001b[0m\u001b[0mBy\u001b[0m\u001b[1;33m.\u001b[0m\u001b[0mID\u001b[0m\u001b[1;33m,\u001b[0m \u001b[0mvalue\u001b[0m\u001b[1;33m=\u001b[0m\u001b[1;32mNone\u001b[0m\u001b[1;33m)\u001b[0m\u001b[1;33m:\u001b[0m\u001b[1;33m\u001b[0m\u001b[1;33m\u001b[0m\u001b[0m\n",
      "\u001b[1;32m~\\AppData\\Local\\Continuum\\anaconda3\\lib\\site-packages\\selenium\\webdriver\\remote\\webdriver.py\u001b[0m in \u001b[0;36mexecute\u001b[1;34m(self, driver_command, params)\u001b[0m\n\u001b[0;32m    319\u001b[0m         \u001b[0mresponse\u001b[0m \u001b[1;33m=\u001b[0m \u001b[0mself\u001b[0m\u001b[1;33m.\u001b[0m\u001b[0mcommand_executor\u001b[0m\u001b[1;33m.\u001b[0m\u001b[0mexecute\u001b[0m\u001b[1;33m(\u001b[0m\u001b[0mdriver_command\u001b[0m\u001b[1;33m,\u001b[0m \u001b[0mparams\u001b[0m\u001b[1;33m)\u001b[0m\u001b[1;33m\u001b[0m\u001b[1;33m\u001b[0m\u001b[0m\n\u001b[0;32m    320\u001b[0m         \u001b[1;32mif\u001b[0m \u001b[0mresponse\u001b[0m\u001b[1;33m:\u001b[0m\u001b[1;33m\u001b[0m\u001b[1;33m\u001b[0m\u001b[0m\n\u001b[1;32m--> 321\u001b[1;33m             \u001b[0mself\u001b[0m\u001b[1;33m.\u001b[0m\u001b[0merror_handler\u001b[0m\u001b[1;33m.\u001b[0m\u001b[0mcheck_response\u001b[0m\u001b[1;33m(\u001b[0m\u001b[0mresponse\u001b[0m\u001b[1;33m)\u001b[0m\u001b[1;33m\u001b[0m\u001b[1;33m\u001b[0m\u001b[0m\n\u001b[0m\u001b[0;32m    322\u001b[0m             response['value'] = self._unwrap_value(\n\u001b[0;32m    323\u001b[0m                 response.get('value', None))\n",
      "\u001b[1;32m~\\AppData\\Local\\Continuum\\anaconda3\\lib\\site-packages\\selenium\\webdriver\\remote\\errorhandler.py\u001b[0m in \u001b[0;36mcheck_response\u001b[1;34m(self, response)\u001b[0m\n\u001b[0;32m    240\u001b[0m                 \u001b[0malert_text\u001b[0m \u001b[1;33m=\u001b[0m \u001b[0mvalue\u001b[0m\u001b[1;33m[\u001b[0m\u001b[1;34m'alert'\u001b[0m\u001b[1;33m]\u001b[0m\u001b[1;33m.\u001b[0m\u001b[0mget\u001b[0m\u001b[1;33m(\u001b[0m\u001b[1;34m'text'\u001b[0m\u001b[1;33m)\u001b[0m\u001b[1;33m\u001b[0m\u001b[1;33m\u001b[0m\u001b[0m\n\u001b[0;32m    241\u001b[0m             \u001b[1;32mraise\u001b[0m \u001b[0mexception_class\u001b[0m\u001b[1;33m(\u001b[0m\u001b[0mmessage\u001b[0m\u001b[1;33m,\u001b[0m \u001b[0mscreen\u001b[0m\u001b[1;33m,\u001b[0m \u001b[0mstacktrace\u001b[0m\u001b[1;33m,\u001b[0m \u001b[0malert_text\u001b[0m\u001b[1;33m)\u001b[0m\u001b[1;33m\u001b[0m\u001b[1;33m\u001b[0m\u001b[0m\n\u001b[1;32m--> 242\u001b[1;33m         \u001b[1;32mraise\u001b[0m \u001b[0mexception_class\u001b[0m\u001b[1;33m(\u001b[0m\u001b[0mmessage\u001b[0m\u001b[1;33m,\u001b[0m \u001b[0mscreen\u001b[0m\u001b[1;33m,\u001b[0m \u001b[0mstacktrace\u001b[0m\u001b[1;33m)\u001b[0m\u001b[1;33m\u001b[0m\u001b[1;33m\u001b[0m\u001b[0m\n\u001b[0m\u001b[0;32m    243\u001b[0m \u001b[1;33m\u001b[0m\u001b[0m\n\u001b[0;32m    244\u001b[0m     \u001b[1;32mdef\u001b[0m \u001b[0m_value_or_default\u001b[0m\u001b[1;33m(\u001b[0m\u001b[0mself\u001b[0m\u001b[1;33m,\u001b[0m \u001b[0mobj\u001b[0m\u001b[1;33m,\u001b[0m \u001b[0mkey\u001b[0m\u001b[1;33m,\u001b[0m \u001b[0mdefault\u001b[0m\u001b[1;33m)\u001b[0m\u001b[1;33m:\u001b[0m\u001b[1;33m\u001b[0m\u001b[1;33m\u001b[0m\u001b[0m\n",
      "\u001b[1;31mNoSuchElementException\u001b[0m: Message: no such element: Unable to locate element: {\"method\":\"link text\",\"selector\":\"wwwcraigslistorgaboutprivacypolicy\"}\n  (Session info: chrome=80.0.3987.149)\n"
     ]
    }
   ],
   "source": [
    "dfs_sign_up_automatically_test.practice('craigslist.org')"
   ]
  },
  {
   "cell_type": "code",
   "execution_count": null,
   "metadata": {},
   "outputs": [],
   "source": [
    "driver.find_elements_by_tag_name('a')."
   ]
  },
  {
   "cell_type": "code",
   "execution_count": 108,
   "metadata": {},
   "outputs": [],
   "source": [
    "soup = BeautifulSoup(driver.page_source, 'lxml')"
   ]
  },
  {
   "cell_type": "code",
   "execution_count": 109,
   "metadata": {
    "scrolled": true
   },
   "outputs": [
    {
     "data": {
      "text/plain": [
       "[<iframe src=\"javascript:void(0)\" style=\"width: 0px; height: 0px; border: 0px; display: none;\" title=\"\"></iframe>,\n",
       " <iframe name=\"__cmpLocator\" style=\"display: none;\"></iframe>,\n",
       " <iframe height=\"0\" src=\"//www.googletagmanager.com/ns.html?id=GTM-TF72WX\" style=\"display:none;visibility:hidden\" width=\"0\"></iframe>,\n",
       " <iframe data-google-container-id=\"2\" data-is-safeframe=\"true\" data-load-complete=\"true\" frameborder=\"0\" height=\"90\" id=\"google_ads_iframe_/87824813/Hellomagazine/home_1\" marginheight=\"0\" marginwidth=\"0\" name=\"\" sandbox=\"allow-forms allow-pointer-lock allow-popups allow-popups-to-escape-sandbox allow-same-origin allow-scripts allow-top-navigation-by-user-activation\" scrolling=\"no\" src=\"https://tpc.googlesyndication.com/safeframe/1-0-37/html/container.html\" style=\"border: 0px; vertical-align: bottom;\" title=\"3rd party ad content\" width=\"728\"></iframe>,\n",
       " <iframe data-google-container-id=\"3\" data-is-safeframe=\"true\" data-load-complete=\"true\" frameborder=\"0\" height=\"600\" id=\"google_ads_iframe_/87824813/Hellomagazine/home_2\" marginheight=\"0\" marginwidth=\"0\" name=\"\" sandbox=\"allow-forms allow-pointer-lock allow-popups allow-popups-to-escape-sandbox allow-same-origin allow-scripts allow-top-navigation-by-user-activation\" scrolling=\"no\" src=\"https://tpc.googlesyndication.com/safeframe/1-0-37/html/container.html\" style=\"border: 0px; vertical-align: bottom;\" title=\"3rd party ad content\" width=\"300\"></iframe>,\n",
       " <iframe id=\"ob_iframe\" src=\"https://widgets.outbrain.com/widgetOBUserSync/obUserSync.html#pid=819&amp;dmpenabled=true&amp;filterDMP=&amp;csenabled=true&amp;d=kxDCqLAd3z-Vpk_Ja_rxEVeRAx5pJOjN_BU_y870bnhAWzI5-NraEjCAhYfHaLvk&amp;gdpr=0&amp;cmpNeeded=false&amp;gdprVer=1\" style=\"display: none; width: 1px; height: 1px;\"></iframe>,\n",
       " <iframe data-google-container-id=\"4\" data-load-complete=\"true\" frameborder=\"0\" height=\"1\" id=\"google_ads_iframe_/87824813/Hellomagazine/home_3\" marginheight=\"0\" marginwidth=\"0\" name=\"google_ads_iframe_/87824813/Hellomagazine/home_3\" scrolling=\"no\" srcdoc=\"\" style=\"border: 0px; vertical-align: bottom;\" title=\"3rd party ad content\" width=\"1\"></iframe>,\n",
       " <iframe data-google-container-id=\"5\" data-load-complete=\"true\" frameborder=\"0\" height=\"1\" id=\"google_ads_iframe_/87824813/Hellomagazine/home_4\" marginheight=\"0\" marginwidth=\"0\" name=\"google_ads_iframe_/87824813/Hellomagazine/home_4\" scrolling=\"no\" srcdoc=\"\" style=\"border: 0px; vertical-align: bottom;\" title=\"3rd party ad content\" width=\"1\"></iframe>,\n",
       " <iframe height=\"0\" id=\"skimlinks-pixels-iframe\" style=\"display: none;\" width=\"0\"></iframe>,\n",
       " <iframe frameborder=\"0\" height=\"616\" id=\"lr-iframe\" width=\"350\"></iframe>,\n",
       " <iframe allowtransparency=\"true\" frameborder=\"0\" scrolling=\"no\" src=\"https://platform.twitter.com/widgets/widget_iframe.d0f13be8321eb432fba28cfc1c3351b1.html?origin=https%3A%2F%2Fwww.hellomagazine.com\" style=\"display: none;\" title=\"Twitter settings iframe\"></iframe>,\n",
       " <iframe id=\"google_osd_static_frame_8154334390208\" name=\"google_osd_static_frame\" style=\"display: none; width: 0px; height: 0px;\"></iframe>,\n",
       " <iframe src=\"about:blank\" style=\"border-width: 0px; display: none; margin: 0px auto;\"></iframe>,\n",
       " <iframe height=\"0\" style=\"display: none;\" title=\"Criteo DIS iframe\" width=\"0\"></iframe>,\n",
       " <iframe src=\"about:blank\" style=\"border-width: 0px; display: none; margin: 0px auto;\"></iframe>]"
      ]
     },
     "execution_count": 109,
     "metadata": {},
     "output_type": "execute_result"
    }
   ],
   "source": [
    "soup.find_all('iframe')"
   ]
  },
  {
   "cell_type": "code",
   "execution_count": 27,
   "metadata": {},
   "outputs": [],
   "source": [
    "continue_check = find_values(['sign up with email', 'continue with email'], driver, 'abs-cbn.com')"
   ]
  },
  {
   "cell_type": "code",
   "execution_count": 127,
   "metadata": {
    "scrolled": true
   },
   "outputs": [
    {
     "data": {
      "text/plain": [
       "1884"
      ]
     },
     "execution_count": 127,
     "metadata": {},
     "output_type": "execute_result"
    }
   ],
   "source": [
    "driver.execute_script('return document.body.scrollHeight')"
   ]
  },
  {
   "cell_type": "code",
   "execution_count": 107,
   "metadata": {},
   "outputs": [
    {
     "name": "stderr",
     "output_type": "stream",
     "text": [
      "C:\\Users\\dlckd\\AppData\\Local\\Continuum\\anaconda3\\lib\\site-packages\\ipykernel_launcher.py:1: DeprecationWarning: use driver.switch_to.default_content instead\n",
      "  \"\"\"Entry point for launching an IPython kernel.\n"
     ]
    }
   ],
   "source": [
    "driver.switch_to_default_content()"
   ]
  }
 ],
 "metadata": {
  "kernelspec": {
   "display_name": "Python 3",
   "language": "python",
   "name": "python3"
  },
  "language_info": {
   "codemirror_mode": {
    "name": "ipython",
    "version": 3
   },
   "file_extension": ".py",
   "mimetype": "text/x-python",
   "name": "python",
   "nbconvert_exporter": "python",
   "pygments_lexer": "ipython3",
   "version": "3.7.4"
  }
 },
 "nbformat": 4,
 "nbformat_minor": 2
}
